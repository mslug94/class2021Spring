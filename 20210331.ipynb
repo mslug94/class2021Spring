{
  "nbformat": 4,
  "nbformat_minor": 0,
  "metadata": {
    "colab": {
      "name": "Untitled7.ipynb",
      "provenance": [],
      "authorship_tag": "ABX9TyOiA03OafqjHYgAC7e72Q1d",
      "include_colab_link": true
    },
    "kernelspec": {
      "name": "python3",
      "display_name": "Python 3"
    },
    "language_info": {
      "name": "python"
    }
  },
  "cells": [
    {
      "cell_type": "markdown",
      "metadata": {
        "id": "view-in-github",
        "colab_type": "text"
      },
      "source": [
        "<a href=\"https://colab.research.google.com/github/mslug94/class2021Spring/blob/main/20210331.ipynb\" target=\"_parent\"><img src=\"https://colab.research.google.com/assets/colab-badge.svg\" alt=\"Open In Colab\"/></a>"
      ]
    },
    {
      "cell_type": "markdown",
      "metadata": {
        "id": "aVLwM0mu4pu2"
      },
      "source": [
        "ɑ\n",
        "pitch : 122.83998599895614 Hz\n",
        "intensity : 63.14667998791648 dB\n",
        "formant : 811.7815293693857 Hz (F1), 1298.4239892332857 Hz (F2)\n",
        "duration : 460.793ms\n",
        "\n",
        "æ\n",
        "pitch : 123.77477868963668 Hz\n",
        "intensity : 60.51119044358764 dB\n",
        "formant : 608.6537648497862 Hz (F1), 1827.3279273334722 Hz (F2)\n",
        "duration : 421.501ms"
      ]
    },
    {
      "cell_type": "code",
      "metadata": {
        "id": "spbPvQ9s5IO-"
      },
      "source": [
        ""
      ],
      "execution_count": null,
      "outputs": []
    }
  ]
}