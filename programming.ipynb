{
  "nbformat": 4,
  "nbformat_minor": 0,
  "metadata": {
    "colab": {
      "name": "Untitled2.ipynb",
      "provenance": [],
      "authorship_tag": "ABX9TyNePq/gQ20714qvemvKtaSC",
      "include_colab_link": true
    },
    "kernelspec": {
      "name": "python3",
      "display_name": "Python 3"
    }
  },
  "cells": [
    {
      "cell_type": "markdown",
      "metadata": {
        "id": "view-in-github",
        "colab_type": "text"
      },
      "source": [
        "<a href=\"https://colab.research.google.com/github/mslug94/class2021Spring/blob/main/programming.ipynb\" target=\"_parent\"><img src=\"https://colab.research.google.com/assets/colab-badge.svg\" alt=\"Open In Colab\"/></a>"
      ]
    },
    {
      "cell_type": "code",
      "metadata": {
        "id": "bVKu8xCJozZO"
      },
      "source": [
        ""
      ],
      "execution_count": null,
      "outputs": []
    },
    {
      "cell_type": "markdown",
      "metadata": {
        "id": "neS4sfVVozyn"
      },
      "source": [
        "## 변수\r\n",
        "문장을 구성하는 단어처럼 프로그램에서 사용될 데이터들을 표현하는 형태이다.\r\n",
        "변수는 정해진 값이 아니며 항상 변할 수 있다.\r\n",
        "\r\n",
        "## 제어문\r\n",
        "프로그램의 흐름을 특정 조건에 따라 처리하는 명령어이다.\r\n",
        "특정 조건을 만족하는 경우 특정 명령을 수행하게 하는 if문이나\r\n",
        "특정 조건을 만족하는 경우 반복을 하게 하는 for문 등이 있다.\r\n",
        "\r\n",
        "## 함수\r\n",
        "변수를 입력값으로 넣어서 특정 변수에 대해서 특정한 출력값이 나오도록 하는 명령문이다.\r\n"
      ]
    }
  ]
}